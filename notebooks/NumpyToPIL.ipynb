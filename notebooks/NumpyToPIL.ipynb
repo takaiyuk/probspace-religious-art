{
 "cells": [
  {
   "cell_type": "code",
   "execution_count": 1,
   "id": "1f1628ba-63e6-4cb6-ae18-f5f22e5fcc16",
   "metadata": {},
   "outputs": [],
   "source": [
    "import sys\n",
    "\n",
    "sys.path.append(\"..\")"
   ]
  },
  {
   "cell_type": "code",
   "execution_count": 2,
   "id": "d3c75072-264b-4609-9def-8f0c9fed51a5",
   "metadata": {},
   "outputs": [],
   "source": [
    "import os\n",
    "from dataclasses import dataclass\n",
    "from typing import *\n",
    "\n",
    "import numpy as np\n",
    "from PIL import Image\n",
    "from tqdm import tqdm\n",
    "\n",
    "from src.utils import check_exist, mkdir, rmdir"
   ]
  },
  {
   "cell_type": "code",
   "execution_count": 3,
   "id": "9a206966-09f8-440f-8d03-e6361a0d58fe",
   "metadata": {},
   "outputs": [],
   "source": [
    "from dataclasses import dataclass\n",
    "\n",
    "\n",
    "image_data_path = \"../input/data/train/0\"\n",
    "\n",
    "\n",
    "@dataclass\n",
    "class InputPath:\n",
    "    _prefix: str = \"../input\"\n",
    "    train_images: str = f\"{_prefix}/christ-train-imgs.npz\"\n",
    "    train_labels: str = f\"{_prefix}/christ-train-labels.npz\"\n",
    "    test_images: str = f\"{_prefix}/christ-test-imgs.npz\"\n",
    "     \n",
    "        \n",
    "def load_npz(path: str) -> np.array:\n",
    "    return np.load(path)[\"arr_0\"]\n",
    "\n",
    "\n",
    "def save_images(arr: np.array) -> None:\n",
    "    for i, elem in tqdm(enumerate(arr), total=len(arr)):\n",
    "        image = Image.fromarray(np.uint8(elem))\n",
    "        image.save(f\"{image_data_path}/{i}.png\")"
   ]
  },
  {
   "cell_type": "code",
   "execution_count": 4,
   "id": "ea21cbfc-570d-4875-b888-8a853acfe359",
   "metadata": {},
   "outputs": [
    {
     "name": "stderr",
     "output_type": "stream",
     "text": [
      "100%|██████████| 654/654 [00:06<00:00, 99.29it/s] \n"
     ]
    }
   ],
   "source": [
    "if check_exist(\"../input/data\"):\n",
    "    rmdir(\"../input/data\")\n",
    "mkdir(image_data_path)\n",
    "\n",
    "train = load_npz(InputPath.train_images)\n",
    "save_images(train)"
   ]
  },
  {
   "cell_type": "code",
   "execution_count": null,
   "id": "18375cde-1518-4a9d-a4bf-6983134293f9",
   "metadata": {},
   "outputs": [],
   "source": []
  }
 ],
 "metadata": {
  "kernelspec": {
   "display_name": "Python 3",
   "language": "python",
   "name": "python3"
  },
  "language_info": {
   "codemirror_mode": {
    "name": "ipython",
    "version": 3
   },
   "file_extension": ".py",
   "mimetype": "text/x-python",
   "name": "python",
   "nbconvert_exporter": "python",
   "pygments_lexer": "ipython3",
   "version": "3.8.0"
  }
 },
 "nbformat": 4,
 "nbformat_minor": 5
}
